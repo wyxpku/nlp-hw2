{
 "cells": [
  {
   "cell_type": "code",
   "execution_count": 1,
   "metadata": {},
   "outputs": [
    {
     "name": "stderr",
     "output_type": "stream",
     "text": [
      "Building prefix dict from the default dictionary ...\n",
      "Loading model from cache /var/folders/t6/xzky4z1j31l0pypw608w2j_m0000gn/T/jieba.cache\n",
      "Loading model cost 1.170 seconds.\n",
      "Prefix dict has been built succesfully.\n"
     ]
    },
    {
     "name": "stdout",
     "output_type": "stream",
     "text": [
      "Training for 30 times. p=1000, n=400\n"
     ]
    }
   ],
   "source": [
    "#!/usr/local/bin/python3\n",
    "import pickle\n",
    "from prep import Review\n",
    "from sklearn.feature_extraction.text import TfidfVectorizer\n",
    "import jieba\n",
    "from sklearn.naive_bayes import MultinomialNB\n",
    "import numpy as np\n",
    "\n",
    "swset = None\n",
    "\n",
    "\n",
    "def load_test_set():\n",
    "    trainfile = open('test.pkl', 'rb')\n",
    "    test = pickle.load(trainfile)\n",
    "    trainfile.close()\n",
    "    return test\n",
    "\n",
    "\n",
    "def load_train_set():\n",
    "    trainfile = open('train.pkl', 'rb')\n",
    "    train_en = pickle.load(trainfile)\n",
    "    train_cn = pickle.load(trainfile)\n",
    "    trainfile.close()\n",
    "    return train_en, train_cn\n",
    "\n",
    "\n",
    "def load_stopwords_set():\n",
    "    stopwords = set()\n",
    "    swfname = 'ChineseStopWords.txt'\n",
    "    with open(swfname, 'r') as file:\n",
    "        for line in file.readlines():\n",
    "            # if line[-1] == '\\0':\n",
    "            # print(line)\n",
    "            if line[-1] == '\\n':\n",
    "                stopwords.add(line[:-1])\n",
    "            else:\n",
    "                stopwords.add(line)\n",
    "            # print(line[:-1] + '-----')\n",
    "    return stopwords\n",
    "\n",
    "\n",
    "def mycut(text):\n",
    "    words = jieba.cut(text, cut_all=False)\n",
    "    ret = []\n",
    "    for word in words:\n",
    "        if word not in swset:\n",
    "            ret.append(word)\n",
    "    return ' '.join(ret)\n",
    "\n",
    "\n",
    "\n",
    "train_en, train_cn = load_train_set()\n",
    "train = train_en + train_cn\n",
    "test = load_test_set()\n",
    "swset = load_stopwords_set()\n",
    "# pre load jieba dict\n",
    "mycut('xxx')\n",
    "ntimes = 30\n",
    "p = 1000\n",
    "n = 400\n",
    "en_train = []\n",
    "cn_train = []\n",
    "en_test = []\n",
    "cn_test = []\n",
    "label = []\n",
    "for review in train:\n",
    "    en_train.append(review.en_summary + '.' + review.en_text)\n",
    "    cn_train.append(mycut(review.cn_summary + '。' + review.cn_text))\n",
    "    label.append(review.polarity)\n",
    "for review in test:\n",
    "    en_test.append(review.en_summary + '.' + review.en_text)\n",
    "    cn_test.append(mycut(review.cn_summary + '。' + review.cn_text))\n",
    "\n",
    "en_vectorizer = TfidfVectorizer(min_df=1)\n",
    "cn_vectorizer = TfidfVectorizer(min_df=1)\n",
    "train_enx = en_vectorizer.fit_transform(en_train).toarray()\n",
    "train_cnx = cn_vectorizer.fit_transform(cn_train).toarray()\n",
    "test_enx = en_vectorizer.transform(en_test).toarray()\n",
    "test_cnx = cn_vectorizer.transform(cn_test).toarray()\n",
    "print('Training for %d times. p=%d, n=%d' % (ntimes, p, n))\n"
   ]
  },
  {
   "cell_type": "code",
   "execution_count": 2,
   "metadata": {},
   "outputs": [
    {
     "name": "stdout",
     "output_type": "stream",
     "text": [
      "Sample number of train set: 12120\n",
      "Sample number of unlabeled set: 12000\n"
     ]
    }
   ],
   "source": [
    "# for itime in range(ntimes):\n",
    "# print('----------Train #%d----------' % itime)\n",
    "\n",
    "print('Sample number of train set: %d' % len(label))\n",
    "print('Sample number of unlabeled set: %d' % len(en_test))\n",
    "\n",
    "if len(label) < p or len(en_test) < n:\n",
    "    print('p or n is too large now, break')\n",
    "#     break\n",
    "\n",
    "en_clf = MultinomialNB(alpha=0.01)\n",
    "cn_clf = MultinomialNB(alpha=0.01)\n",
    "\n",
    "en_clf.fit(train_enx, label)\n",
    "cn_clf.fit(train_cnx, label)\n",
    "\n",
    "en_predict = en_clf.predict(test_enx)\n",
    "en_predict_proba = en_clf.predict_proba(test_enx)\n",
    "cn_predict = cn_clf.predict(test_cnx)\n",
    "cn_predict_proba = cn_clf.predict_proba(test_cnx)"
   ]
  },
  {
   "cell_type": "code",
   "execution_count": 3,
   "metadata": {
    "collapsed": true
   },
   "outputs": [],
   "source": [
    "# get index of top p predict_proba in en_predict\n",
    "en_idx_proba = []\n",
    "for idx, proba in enumerate(en_predict_proba):\n",
    "    en_idx_proba.append((idx, proba[en_predict[idx]]))\n",
    "# print(en_idx_proba)\n",
    "sorted_en_proba = sorted(\n",
    "    en_idx_proba,\n",
    "    key=lambda tmp: tmp[1],\n",
    "    reverse=True\n",
    ")\n",
    "selected_en_idx = [item[0] for item in sorted_en_proba[:p]]\n",
    "\n",
    "# get index of top n predict_proba in en_predict\n",
    "cn_idx_proba = []\n",
    "for idx, proba in enumerate(cn_predict_proba):\n",
    "    cn_idx_proba.append((idx, proba[cn_predict[idx]]))\n",
    "sorted_cn_proba = sorted(\n",
    "    cn_idx_proba,\n",
    "    key=lambda tmp: tmp[1],\n",
    "    reverse=True\n",
    ")\n",
    "selected_cn_idx = [item[0] for item in sorted_cn_proba[:n]]\n",
    "idx_merge = set(selected_en_idx) | set(selected_cn_idx)"
   ]
  },
  {
   "cell_type": "code",
   "execution_count": 6,
   "metadata": {},
   "outputs": [
    {
     "name": "stdout",
     "output_type": "stream",
     "text": [
      "(12120, 54836)\n",
      "(12120, 54234)\n",
      "(12000, 54836)\n",
      "(12000, 54234)\n",
      "(54836,)\n",
      "(12121, 54836)\n"
     ]
    }
   ],
   "source": [
    "print(train_enx.shape)\n",
    "print(train_cnx.shape)\n",
    "print(test_enx.shape)\n",
    "print(test_cnx.shape)\n",
    "print(test_enx[0].shape)\n",
    "\n",
    "testx = np.vstack((train_enx, test_enx[0]))\n",
    "print(testx.shape)"
   ]
  },
  {
   "cell_type": "code",
   "execution_count": 8,
   "metadata": {},
   "outputs": [
    {
     "ename": "IndexError",
     "evalue": "index 10877 is out of bounds for axis 0 with size 10877",
     "output_type": "error",
     "traceback": [
      "\u001b[0;31m---------------------------------------------------------------------------\u001b[0m",
      "\u001b[0;31mIndexError\u001b[0m                                Traceback (most recent call last)",
      "\u001b[0;32m<ipython-input-8-a883e2bc4dbc>\u001b[0m in \u001b[0;36m<module>\u001b[0;34m()\u001b[0m\n\u001b[1;32m      8\u001b[0m \u001b[0;34m\u001b[0m\u001b[0m\n\u001b[1;32m      9\u001b[0m \u001b[0;31m# train_enx.append(test_enx[idx])\u001b[0m\u001b[0;34m\u001b[0m\u001b[0;34m\u001b[0m\u001b[0m\n\u001b[0;32m---> 10\u001b[0;31m \u001b[0mtrain_enx\u001b[0m \u001b[0;34m=\u001b[0m \u001b[0mnp\u001b[0m\u001b[0;34m.\u001b[0m\u001b[0mvstack\u001b[0m\u001b[0;34m(\u001b[0m\u001b[0;34m(\u001b[0m\u001b[0mtrain_enx\u001b[0m\u001b[0;34m,\u001b[0m \u001b[0mtest_enx\u001b[0m\u001b[0;34m[\u001b[0m\u001b[0mselected_idx\u001b[0m\u001b[0;34m]\u001b[0m\u001b[0;34m)\u001b[0m\u001b[0;34m)\u001b[0m\u001b[0;34m\u001b[0m\u001b[0m\n\u001b[0m\u001b[1;32m     11\u001b[0m \u001b[0mtrain_cnx\u001b[0m \u001b[0;34m=\u001b[0m \u001b[0mnp\u001b[0m\u001b[0;34m.\u001b[0m\u001b[0mvstack\u001b[0m\u001b[0;34m(\u001b[0m\u001b[0;34m(\u001b[0m\u001b[0mtrain_cnx\u001b[0m\u001b[0;34m,\u001b[0m \u001b[0mtest_cnx\u001b[0m\u001b[0;34m[\u001b[0m\u001b[0mselected_idx\u001b[0m\u001b[0;34m]\u001b[0m\u001b[0;34m)\u001b[0m\u001b[0;34m)\u001b[0m\u001b[0;34m\u001b[0m\u001b[0m\n\u001b[1;32m     12\u001b[0m \u001b[0mtest_enx\u001b[0m \u001b[0;34m=\u001b[0m \u001b[0mnp\u001b[0m\u001b[0;34m.\u001b[0m\u001b[0mdelete\u001b[0m\u001b[0;34m(\u001b[0m\u001b[0mtest_enx\u001b[0m\u001b[0;34m,\u001b[0m \u001b[0mselected_idx\u001b[0m\u001b[0;34m,\u001b[0m \u001b[0maxis\u001b[0m\u001b[0;34m=\u001b[0m\u001b[0;36m0\u001b[0m\u001b[0;34m)\u001b[0m\u001b[0;34m\u001b[0m\u001b[0m\n",
      "\u001b[0;31mIndexError\u001b[0m: index 10877 is out of bounds for axis 0 with size 10877"
     ]
    }
   ],
   "source": [
    "cnt = 0\n",
    "selected_idx = []\n",
    "for idx in idx_merge:\n",
    "    if en_predict[idx] != cn_predict[idx]:\n",
    "        continue\n",
    "    selected_idx.append(idx)\n",
    "    label.append(en_predict[idx])\n",
    "    \n",
    "# train_enx.append(test_enx[idx])\n",
    "train_enx = np.vstack((train_enx, test_enx[selected_idx]))\n",
    "train_cnx = np.vstack((train_cnx, test_cnx[selected_idx]))\n",
    "test_enx = np.delete(test_enx, selected_idx, axis=0)\n",
    "test_cnx = np.delete(test_cnx, selected_idx, axis=0)\n",
    "print('Moving %d sample from unlabeled to labeled set' % len(selected_idx))"
   ]
  },
  {
   "cell_type": "code",
   "execution_count": 9,
   "metadata": {},
   "outputs": [
    {
     "name": "stdout",
     "output_type": "stream",
     "text": [
      "1123\n",
      "(13243, 54836) (10877, 54836)\n"
     ]
    }
   ],
   "source": [
    "print(len(selected_idx))\n",
    "print(train_enx.shape, test_enx.shape)"
   ]
  },
  {
   "cell_type": "code",
   "execution_count": null,
   "metadata": {
    "collapsed": true
   },
   "outputs": [],
   "source": []
  }
 ],
 "metadata": {
  "kernelspec": {
   "display_name": "Python 3",
   "language": "python",
   "name": "python3"
  },
  "language_info": {
   "codemirror_mode": {
    "name": "ipython",
    "version": 3
   },
   "file_extension": ".py",
   "mimetype": "text/x-python",
   "name": "python",
   "nbconvert_exporter": "python",
   "pygments_lexer": "ipython3",
   "version": "3.6.0"
  }
 },
 "nbformat": 4,
 "nbformat_minor": 2
}
